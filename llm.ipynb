{
 "cells": [
  {
   "cell_type": "code",
   "execution_count": 1,
   "metadata": {},
   "outputs": [],
   "source": [
    "import torch\n",
    "import torch.nn as nn\n",
    "import os\n",
    "import requests\n",
    "import tiktoken\n",
    "import pandas as pd\n",
    "import math"
   ]
  },
  {
   "cell_type": "code",
   "execution_count": 2,
   "metadata": {},
   "outputs": [],
   "source": [
    "token_length= 16\n",
    "d_model = 64\n",
    "batch_size = 4"
   ]
  },
  {
   "cell_type": "code",
   "execution_count": 3,
   "metadata": {},
   "outputs": [],
   "source": [
    "with open('dataset.txt', 'r') as f:\n",
    "    text = f.read()\n",
    "\n"
   ]
  },
  {
   "cell_type": "code",
   "execution_count": 4,
   "metadata": {},
   "outputs": [],
   "source": [
    "encoding = tiktoken.get_encoding('cl100k_base')\n",
    "tokenized_text = encoding.encode(text)\n",
    "tokenized_text = torch.tensor(tokenized_text, dtype=torch.long)"
   ]
  },
  {
   "cell_type": "code",
   "execution_count": 5,
   "metadata": {},
   "outputs": [],
   "source": [
    "train_index = int(len(tokenized_text) * 0.9)\n",
    "train_data = tokenized_text[:train_index]\n",
    "validation_data = tokenized_text[train_index:]"
   ]
  },
  {
   "cell_type": "code",
   "execution_count": 6,
   "metadata": {},
   "outputs": [],
   "source": [
    "data = train_data\n",
    "indexs = torch.randint(low=0, high=len(data) - token_length, size=(batch_size,))\n",
    "# 4 * 16 tensor\n",
    "x_batch = torch.stack([data[idx: idx + token_length] for idx in indexs])\n",
    "y_batch = torch.stack([data[idx + 1: idx + token_length + 1] for idx in indexs])"
   ]
  },
  {
   "cell_type": "code",
   "execution_count": 7,
   "metadata": {},
   "outputs": [
    {
     "data": {
      "text/plain": [
       "' or over the phone\\nHandling objections in written communication or over the phone is an'"
      ]
     },
     "execution_count": 7,
     "metadata": {},
     "output_type": "execute_result"
    }
   ],
   "source": [
    "# pd.DataFrame(x_batch[0].numpy())\n",
    "encoding.decode(x_batch[0].numpy())"
   ]
  },
  {
   "cell_type": "code",
   "execution_count": 8,
   "metadata": {},
   "outputs": [
    {
     "data": {
      "text/plain": [
       "100069"
      ]
     },
     "execution_count": 8,
     "metadata": {},
     "output_type": "execute_result"
    }
   ],
   "source": [
    "# get max index of token\n",
    "max_token_value = tokenized_text.max().item()\n",
    "max_token_value"
   ]
  },
  {
   "cell_type": "code",
   "execution_count": 9,
   "metadata": {},
   "outputs": [
    {
     "data": {
      "text/plain": [
       "tensor([[-0.1733, -0.3731,  0.2028,  ..., -0.0237, -0.3536,  1.3827],\n",
       "        [ 0.4144, -0.0151,  1.2830,  ...,  1.2278,  0.5334,  0.0971],\n",
       "        [-0.5918, -0.2436, -0.4565,  ..., -0.3854,  0.5225,  0.9887],\n",
       "        ...,\n",
       "        [ 0.2023, -1.8109,  0.9871,  ..., -1.7215, -0.7932, -0.3979],\n",
       "        [-1.3804, -0.1381, -1.2865,  ...,  1.7921,  0.1391,  0.5029],\n",
       "        [ 0.5249, -1.2645, -0.4546,  ..., -0.4729,  1.0280, -1.0916]])"
      ]
     },
     "execution_count": 9,
     "metadata": {},
     "output_type": "execute_result"
    }
   ],
   "source": [
    "# construct a 100070 * 16 matrix, get input embedding\n",
    "input_embedding_table = nn.Embedding(max_token_value + 1, d_model)\n",
    "input_embedding_table.weight.data"
   ]
  },
  {
   "cell_type": "code",
   "execution_count": 10,
   "metadata": {},
   "outputs": [
    {
     "data": {
      "text/plain": [
       "torch.Size([4, 16, 64])"
      ]
     },
     "execution_count": 10,
     "metadata": {},
     "output_type": "execute_result"
    }
   ],
   "source": [
    "x_batch_embedding = input_embedding_table(x_batch)\n",
    "y_batch_embedding = input_embedding_table(y_batch)\n",
    "x_batch_embedding.shape"
   ]
  },
  {
   "cell_type": "code",
   "execution_count": 14,
   "metadata": {},
   "outputs": [
    {
     "data": {
      "text/plain": [
       "torch.Size([4, 16, 64])"
      ]
     },
     "execution_count": 14,
     "metadata": {},
     "output_type": "execute_result"
    }
   ],
   "source": [
    "# get postional encoding\n",
    "# first 16 * 16 matrix\n",
    "postion_encoding_table = torch.zeros(token_length, d_model)\n",
    "# postion 16 * 1\n",
    "postion = torch.arange(0, token_length, dtype=torch.float).unsqueeze(1)\n",
    "div_term = torch.exp(torch.arange(0, d_model, 2).float() * (-math.log(10000.0) / d_model))\n",
    "# [:, 0::2], ':' = selecting all lines, '0::2' = starting from 0, step by step 2\n",
    "postion_encoding_table[:, 0::2] = torch.sin(postion * div_term)\n",
    "postion_encoding_table[:, 1::2] = torch.sin(postion * div_term)\n",
    "postion_encoding_table = postion_encoding_table.unsqueeze(0).expand(batch_size, -1, -1)\n",
    "\n",
    "postion_encoding_table.shape"
   ]
  },
  {
   "cell_type": "code",
   "execution_count": 16,
   "metadata": {},
   "outputs": [
    {
     "data": {
      "text/plain": [
       "torch.Size([4, 16, 64])"
      ]
     },
     "execution_count": 16,
     "metadata": {},
     "output_type": "execute_result"
    }
   ],
   "source": [
    "x = x_batch_embedding + postion_encoding_table\n",
    "y = y_batch_embedding + postion_encoding_table\n",
    "x.shape"
   ]
  },
  {
   "cell_type": "code",
   "execution_count": null,
   "metadata": {},
   "outputs": [],
   "source": []
  }
 ],
 "metadata": {
  "kernelspec": {
   "display_name": "base",
   "language": "python",
   "name": "python3"
  },
  "language_info": {
   "codemirror_mode": {
    "name": "ipython",
    "version": 3
   },
   "file_extension": ".py",
   "mimetype": "text/x-python",
   "name": "python",
   "nbconvert_exporter": "python",
   "pygments_lexer": "ipython3",
   "version": "3.10.9"
  }
 },
 "nbformat": 4,
 "nbformat_minor": 2
}
